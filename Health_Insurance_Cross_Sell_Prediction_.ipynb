{
  "nbformat": 4,
  "nbformat_minor": 0,
  "metadata": {
    "colab": {
      "provenance": [],
      "authorship_tag": "ABX9TyMvwWF58qKhR0af2oYVFjCa",
      "include_colab_link": true
    },
    "kernelspec": {
      "name": "python3",
      "display_name": "Python 3"
    },
    "language_info": {
      "name": "python"
    }
  },
  "cells": [
    {
      "cell_type": "markdown",
      "metadata": {
        "id": "view-in-github",
        "colab_type": "text"
      },
      "source": [
        "<a href=\"https://colab.research.google.com/github/rajkumarshedage/Health-Insurance-Cross-Sell-Prediction/blob/main/Health_Insurance_Cross_Sell_Prediction_.ipynb\" target=\"_parent\"><img src=\"https://colab.research.google.com/assets/colab-badge.svg\" alt=\"Open In Colab\"/></a>"
      ]
    },
    {
      "cell_type": "markdown",
      "source": [
        "## Project Name - Health Insurance Cross Sell Prediction\n",
        "## Project Type - Classification\n",
        "## Contribution - Individual\n",
        "### GitHub Link\n",
        "https://github.com/rajkumarshedage/Health-Insurance-Cross-Sell-Prediction\n",
        "\n",
        "### Problem Statement\n",
        "Business Problem Overview\n",
        "An insurance company is looking to build a model to predict whether their past health insurance policyholders would also be interested in purchasing vehicle insurance from the company.\n",
        "\n",
        "An insurance policy is a contract where the company agrees to provide compensation for specific losses, injuries, or death in exchange for regular payments called premiums.\n",
        "\n",
        "In this case, the company wants to use information about the customer's demographics, vehicle details, and previous insurance policy information to predict their interest in vehicle insurance.\n",
        "\n",
        "This information would be used to target marketing efforts and optimize the company's revenue.\n",
        "\n",
        "## Business Objective\n",
        "The business objective for a health insurance cross-sell prediction is to identify potential customers who are likely to purchase additional products.\n",
        "\n",
        "This allows the insurance company to target their marketing efforts towards these individuals, potentially increasing sales and revenue.\n",
        "\n",
        "Additionally, by identifying and targeting high-risk customers, the insurance company can also improve their risk management and profitability."
      ],
      "metadata": {
        "id": "EVcs5a8eBhf5"
      }
    },
    {
      "cell_type": "code",
      "source": [],
      "metadata": {
        "id": "wXX6qkR8Bxy1"
      },
      "execution_count": null,
      "outputs": []
    }
  ]
}